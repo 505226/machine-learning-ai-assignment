{
 "cells": [
  {
   "cell_type": "markdown",
   "metadata": {},
   "source": [
    "# KNN and LogisticRegression - Supervised Learning"
   ]
  },
  {
   "cell_type": "code",
   "execution_count": 69,
   "metadata": {},
   "outputs": [
    {
     "name": "stderr",
     "output_type": "stream",
     "text": [
      "C:\\Users\\charl\\AppData\\Local\\Temp\\ipykernel_15092\\3265345259.py:12: FutureWarning: Downcasting behavior in `replace` is deprecated and will be removed in a future version. To retain the old behavior, explicitly call `result.infer_objects(copy=False)`. To opt-in to the future behavior, set `pd.set_option('future.no_silent_downcasting', True)`\n",
      "  df.replace('negative', 0, inplace=True)\n",
      "C:\\Users\\charl\\AppData\\Local\\Temp\\ipykernel_15092\\3265345259.py:15: FutureWarning: Downcasting behavior in `replace` is deprecated and will be removed in a future version. To retain the old behavior, explicitly call `result.infer_objects(copy=False)`. To opt-in to the future behavior, set `pd.set_option('future.no_silent_downcasting', True)`\n",
      "  df.replace('b', 2, inplace=True)\n"
     ]
    }
   ],
   "source": [
    "from sklearn.model_selection import train_test_split\n",
    "from sklearn.neighbors import KNeighborsClassifier\n",
    "from sklearn.linear_model import LogisticRegression\n",
    "from sklearn.metrics import accuracy_score, confusion_matrix, classification_report\n",
    "import pandas as pd\n",
    "\n",
    "df = pd.read_csv(r'tic-tac-toe.data', sep=',')\n",
    "\n",
    "# Replace string values with numeric values.\n",
    "# Positive/negative > 1/0 for binary classification simplification.\n",
    "df.replace('positive', 1, inplace=True)\n",
    "df.replace('negative', 0, inplace=True)\n",
    "df.replace('x', 0, inplace=True)\n",
    "df.replace('o', 1, inplace=True)\n",
    "df.replace('b', 2, inplace=True)\n",
    "\n",
    "X = df.iloc[:,:-1].values\n",
    "y = df.iloc[:, -1]\n",
    "\n",
    "# Split testing and training data.\n",
    "X_train, X_test, y_train, y_test = train_test_split(X, y, test_size=0.2)"
   ]
  },
  {
   "cell_type": "code",
   "execution_count": 70,
   "metadata": {},
   "outputs": [
    {
     "name": "stdout",
     "output_type": "stream",
     "text": [
      "Accuracy: 0.8489583333333334\n",
      "\n",
      "Confusion Matrix:\n",
      " [[ 40  26]\n",
      " [  3 123]]\n",
      "\n",
      "Classification Report:\n",
      "               precision    recall  f1-score   support\n",
      "\n",
      "           0       0.93      0.61      0.73        66\n",
      "           1       0.83      0.98      0.89       126\n",
      "\n",
      "    accuracy                           0.85       192\n",
      "   macro avg       0.88      0.79      0.81       192\n",
      "weighted avg       0.86      0.85      0.84       192\n",
      "\n"
     ]
    }
   ],
   "source": [
    "# KNN model.\n",
    "model = KNeighborsClassifier(n_neighbors=5)  # You can adjust the number of neighbors\n",
    "\n",
    "# Train model using training data.\n",
    "model.fit(X_train, y_train)\n",
    "\n",
    "# Make predictions using test data.\n",
    "y_pred = model.predict(X_test)\n",
    "\n",
    "# Metric Data\n",
    "accuracy = accuracy_score(y_test, y_pred)\n",
    "conf_matrix = confusion_matrix(y_test, y_pred)\n",
    "class_report = classification_report(y_test, y_pred)\n",
    "\n",
    "print(\"Accuracy:\", accuracy)\n",
    "print(\"\\nConfusion Matrix:\\n\", conf_matrix)\n",
    "print(\"\\nClassification Report:\\n\", class_report)\n"
   ]
  },
  {
   "cell_type": "code",
   "execution_count": 71,
   "metadata": {},
   "outputs": [
    {
     "name": "stdout",
     "output_type": "stream",
     "text": [
      "Accuracy: 0.7083333333333334\n",
      "\n",
      "Confusion Matrix:\n",
      " [[ 11  55]\n",
      " [  1 125]]\n",
      "\n",
      "Classification Report:\n",
      "               precision    recall  f1-score   support\n",
      "\n",
      "           0       0.92      0.17      0.28        66\n",
      "           1       0.69      0.99      0.82       126\n",
      "\n",
      "    accuracy                           0.71       192\n",
      "   macro avg       0.81      0.58      0.55       192\n",
      "weighted avg       0.77      0.71      0.63       192\n",
      "\n"
     ]
    }
   ],
   "source": [
    "# Import LR model.\n",
    "model2 = LogisticRegression()\n",
    "\n",
    "# Train model using training data.\n",
    "model2.fit(X_train, y_train)\n",
    "\n",
    "# Make predictions using test data.\n",
    "y_pred = model2.predict(X_test)\n",
    "\n",
    "# Metric Data\n",
    "accuracy = accuracy_score(y_test, y_pred)\n",
    "conf_matrix = confusion_matrix(y_test, y_pred)\n",
    "class_report = classification_report(y_test, y_pred)\n",
    "\n",
    "print(\"Accuracy:\", accuracy)\n",
    "print(\"\\nConfusion Matrix:\\n\", conf_matrix)\n",
    "print(\"\\nClassification Report:\\n\", class_report)"
   ]
  }
 ],
 "metadata": {
  "kernelspec": {
   "display_name": "Python 3",
   "language": "python",
   "name": "python3"
  },
  "language_info": {
   "codemirror_mode": {
    "name": "ipython",
    "version": 3
   },
   "file_extension": ".py",
   "mimetype": "text/x-python",
   "name": "python",
   "nbconvert_exporter": "python",
   "pygments_lexer": "ipython3",
   "version": "3.11.9"
  }
 },
 "nbformat": 4,
 "nbformat_minor": 2
}
