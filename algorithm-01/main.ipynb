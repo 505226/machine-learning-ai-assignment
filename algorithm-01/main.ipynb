{
 "cells": [
  {
   "cell_type": "markdown",
   "metadata": {},
   "source": [
    "# Logistic Regression - Supervised Learning"
   ]
  },
  {
   "cell_type": "code",
   "execution_count": 25,
   "metadata": {},
   "outputs": [
    {
     "name": "stdout",
     "output_type": "stream",
     "text": [
      "Accuracy: 0.6197916666666666\n",
      "\n",
      "Confusion Matrix:\n",
      " [[ 14  61]\n",
      " [ 12 105]]\n",
      "\n",
      "Classification Report:\n",
      "               precision    recall  f1-score   support\n",
      "\n",
      "           0       0.54      0.19      0.28        75\n",
      "           1       0.63      0.90      0.74       117\n",
      "\n",
      "    accuracy                           0.62       192\n",
      "   macro avg       0.59      0.54      0.51       192\n",
      "weighted avg       0.60      0.62      0.56       192\n",
      "\n"
     ]
    },
    {
     "name": "stderr",
     "output_type": "stream",
     "text": [
      "C:\\Users\\charl\\AppData\\Local\\Temp\\ipykernel_24772\\688704491.py:9: FutureWarning: Downcasting behavior in `replace` is deprecated and will be removed in a future version. To retain the old behavior, explicitly call `result.infer_objects(copy=False)`. To opt-in to the future behavior, set `pd.set_option('future.no_silent_downcasting', True)`\n",
      "  df.replace('negative', 0, inplace=True)\n",
      "C:\\Users\\charl\\AppData\\Local\\Temp\\ipykernel_24772\\688704491.py:12: FutureWarning: Downcasting behavior in `replace` is deprecated and will be removed in a future version. To retain the old behavior, explicitly call `result.infer_objects(copy=False)`. To opt-in to the future behavior, set `pd.set_option('future.no_silent_downcasting', True)`\n",
      "  df.replace('b', 2, inplace=True)\n"
     ]
    }
   ],
   "source": [
    "from sklearn.model_selection import train_test_split\n",
    "from sklearn.linear_model import LogisticRegression\n",
    "from sklearn.metrics import accuracy_score, confusion_matrix, classification_report\n",
    "import pandas as pd\n",
    "\n",
    "df = pd.read_csv(r'tic-tac-toe.data', sep=',')\n",
    "\n",
    "# Replace string values with numeric values.\n",
    "# Positive/negative > 1/0 for binary classification simplification.\n",
    "df.replace('positive', 1, inplace=True)\n",
    "df.replace('negative', 0, inplace=True)\n",
    "df.replace('x', 0, inplace=True)\n",
    "df.replace('o', 1, inplace=True)\n",
    "df.replace('b', 2, inplace=True)\n",
    "\n",
    "X = df.iloc[:,:-1].values\n",
    "y = df.iloc[:, -1]\n",
    "\n",
    "# Split testing and training data.\n",
    "X_train, X_test, y_train, y_test = train_test_split(X, y, test_size=0.2)\n",
    "\n",
    "# Import LR model.\n",
    "model2 = LogisticRegression()\n",
    "\n",
    "# Train model using training data.\n",
    "model2.fit(X_train, y_train)\n",
    "\n",
    "# Make predictions using test data.\n",
    "y_pred2 = model2.predict(X_test)\n",
    "\n",
    "# Metric Data\n",
    "accuracy2 = accuracy_score(y_test, y_pred2)\n",
    "conf_matrix2 = confusion_matrix(y_test, y_pred2)\n",
    "class_report2 = classification_report(y_test, y_pred2)\n",
    "\n",
    "print(\"Accuracy:\", accuracy2)\n",
    "print(\"\\nConfusion Matrix:\\n\", conf_matrix2)\n",
    "print(\"\\nClassification Report:\\n\", class_report2)"
   ]
  }
 ],
 "metadata": {
  "kernelspec": {
   "display_name": "Python 3",
   "language": "python",
   "name": "python3"
  },
  "language_info": {
   "codemirror_mode": {
    "name": "ipython",
    "version": 3
   },
   "file_extension": ".py",
   "mimetype": "text/x-python",
   "name": "python",
   "nbconvert_exporter": "python",
   "pygments_lexer": "ipython3",
   "version": "3.11.9"
  }
 },
 "nbformat": 4,
 "nbformat_minor": 2
}
